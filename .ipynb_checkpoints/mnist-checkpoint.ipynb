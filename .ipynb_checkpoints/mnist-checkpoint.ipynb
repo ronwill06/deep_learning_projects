{
 "cells": [
  {
   "cell_type": "code",
   "execution_count": 85,
   "metadata": {},
   "outputs": [],
   "source": [
    "import tensorflow as tf\n",
    "from tensorflow import keras\n",
    "from tensorflow.keras.layers import Dense, Conv2D, MaxPooling2D, Flatten\n",
    "from tensorflow.keras.datasets import mnist\n",
    "from tensorflow.keras.utils import to_categorical"
   ]
  },
  {
   "cell_type": "code",
   "execution_count": 86,
   "metadata": {},
   "outputs": [],
   "source": [
    "(X_train, y_train), (X_test, y_test) = mnist.load_data()"
   ]
  },
  {
   "cell_type": "code",
   "execution_count": 87,
   "metadata": {},
   "outputs": [],
   "source": [
    "X_train_dense = X_train.reshape(X_train.shape[0], 28*28)\n",
    "X_test_dense = X_test.reshape(X_test.shape[0], 28*28)"
   ]
  },
  {
   "cell_type": "code",
   "execution_count": 88,
   "metadata": {},
   "outputs": [],
   "source": [
    "y_train_dense = to_categorical(y_train, num_classes=10)\n",
    "y_test_dense = to_categorical(y_test, num_classes=10)"
   ]
  },
  {
   "cell_type": "code",
   "execution_count": 89,
   "metadata": {},
   "outputs": [
    {
     "data": {
      "text/plain": [
       "(60000, 784)"
      ]
     },
     "execution_count": 89,
     "metadata": {},
     "output_type": "execute_result"
    }
   ],
   "source": [
    "X_train_dense.shape"
   ]
  },
  {
   "cell_type": "code",
   "execution_count": 75,
   "metadata": {},
   "outputs": [],
   "source": [
    "model = tf.keras.Sequential()\n",
    "model.add(Dense(32, activation='relu', input_shape=(784,)))\n",
    "model.add(Dense(10, activation='softmax'))"
   ]
  },
  {
   "cell_type": "code",
   "execution_count": 76,
   "metadata": {},
   "outputs": [],
   "source": [
    "model.compile(optimizer='adam', loss='categorical_crossentropy', metrics=['accuracy'])"
   ]
  },
  {
   "cell_type": "code",
   "execution_count": 77,
   "metadata": {},
   "outputs": [
    {
     "name": "stdout",
     "output_type": "stream",
     "text": [
      "Train on 48000 samples, validate on 12000 samples\n",
      "Epoch 1/10\n",
      "48000/48000 [==============================] - 1s 27us/sample - loss: 4.3707 - acc: 0.3900 - val_loss: 1.4940 - val_acc: 0.4896\n",
      "Epoch 2/10\n",
      "48000/48000 [==============================] - 1s 20us/sample - loss: 1.3058 - acc: 0.5562 - val_loss: 1.1389 - val_acc: 0.6460\n",
      "Epoch 3/10\n",
      "48000/48000 [==============================] - 1s 19us/sample - loss: 0.9932 - acc: 0.6749 - val_loss: 0.8967 - val_acc: 0.7168\n",
      "Epoch 4/10\n",
      "48000/48000 [==============================] - 1s 20us/sample - loss: 0.7622 - acc: 0.7786 - val_loss: 0.7336 - val_acc: 0.8192\n",
      "Epoch 5/10\n",
      "48000/48000 [==============================] - 1s 22us/sample - loss: 0.6162 - acc: 0.8338 - val_loss: 0.6154 - val_acc: 0.8455\n",
      "Epoch 6/10\n",
      "48000/48000 [==============================] - 1s 22us/sample - loss: 0.5353 - acc: 0.8597 - val_loss: 0.5640 - val_acc: 0.8797\n",
      "Epoch 7/10\n",
      "48000/48000 [==============================] - 1s 23us/sample - loss: 0.4707 - acc: 0.8793 - val_loss: 0.5078 - val_acc: 0.8802\n",
      "Epoch 8/10\n",
      "48000/48000 [==============================] - 1s 27us/sample - loss: 0.4187 - acc: 0.8932 - val_loss: 0.4681 - val_acc: 0.8959\n",
      "Epoch 9/10\n",
      "48000/48000 [==============================] - 1s 22us/sample - loss: 0.3827 - acc: 0.9022 - val_loss: 0.4348 - val_acc: 0.9024\n",
      "Epoch 10/10\n",
      "48000/48000 [==============================] - 1s 21us/sample - loss: 0.3538 - acc: 0.9107 - val_loss: 0.3999 - val_acc: 0.9076\n"
     ]
    },
    {
     "data": {
      "text/plain": [
       "<tensorflow.python.keras.callbacks.History at 0x65379e250>"
      ]
     },
     "execution_count": 77,
     "metadata": {},
     "output_type": "execute_result"
    }
   ],
   "source": [
    "model.fit(X_train_dense, y_train_dense, epochs=10, batch_size=128, validation_split=0.20)"
   ]
  },
  {
   "cell_type": "code",
   "execution_count": 78,
   "metadata": {},
   "outputs": [
    {
     "data": {
      "text/plain": [
       "array([[5.92623918e-38, 1.23628024e-06, 3.11516742e-05, ...,\n",
       "        9.99967217e-01, 7.08155579e-09, 8.52661941e-09],\n",
       "       [1.90063690e-14, 1.97670925e-02, 8.16014051e-01, ...,\n",
       "        5.26852719e-02, 9.18622222e-03, 6.51142418e-10],\n",
       "       [3.63683729e-21, 9.91418362e-01, 6.57168266e-06, ...,\n",
       "        1.45735929e-03, 7.00131059e-03, 7.82997045e-16],\n",
       "       ...,\n",
       "       [0.00000000e+00, 0.00000000e+00, 2.68640957e-04, ...,\n",
       "        1.77497020e-06, 2.07792407e-20, 1.00586185e-04],\n",
       "       [4.92882609e-05, 0.00000000e+00, 7.63429197e-36, ...,\n",
       "        4.92358095e-06, 5.25328392e-10, 2.12711537e-09],\n",
       "       [2.12717481e-31, 7.34375820e-30, 1.76482242e-08, ...,\n",
       "        1.74834244e-11, 0.00000000e+00, 0.00000000e+00]], dtype=float32)"
      ]
     },
     "execution_count": 78,
     "metadata": {},
     "output_type": "execute_result"
    }
   ],
   "source": [
    "model.predict(X_test_dense)"
   ]
  },
  {
   "cell_type": "code",
   "execution_count": 80,
   "metadata": {},
   "outputs": [
    {
     "name": "stdout",
     "output_type": "stream",
     "text": [
      "10000/10000 [==============================] - 0s 10us/sample - loss: 0.3996 - acc: 0.9103\n"
     ]
    },
    {
     "data": {
      "text/plain": [
       "[0.3996056296348572, 0.9103]"
      ]
     },
     "execution_count": 80,
     "metadata": {},
     "output_type": "execute_result"
    }
   ],
   "source": [
    "model.evaluate(X_test_dense, y_test_dense, batch_size=128)"
   ]
  },
  {
   "cell_type": "markdown",
   "metadata": {},
   "source": [
    "## Convolutional Neural Network"
   ]
  },
  {
   "cell_type": "code",
   "execution_count": 96,
   "metadata": {},
   "outputs": [
    {
     "data": {
      "text/plain": [
       "(10000, 28, 28)"
      ]
     },
     "execution_count": 96,
     "metadata": {},
     "output_type": "execute_result"
    }
   ],
   "source": [
    "X_train.shape\n",
    "X_test.shape"
   ]
  },
  {
   "cell_type": "code",
   "execution_count": 97,
   "metadata": {},
   "outputs": [],
   "source": [
    "X_train = X_train.reshape(60000, 28, 28, 1)\n",
    "X_test = X_test.reshape(10000, 28, 28, 1)"
   ]
  },
  {
   "cell_type": "code",
   "execution_count": 99,
   "metadata": {},
   "outputs": [],
   "source": [
    "model = tf.keras.Sequential()\n",
    "model.add(Conv2D(28, kernel_size=(3, 3), input_shape=(28, 28, 1)))\n",
    "model.add(MaxPooling2D())\n",
    "model.add(Conv2D(28, kernel_size=(3, 3), input_shape=(28, 28, 1)))\n",
    "model.add(MaxPooling2D())\n",
    "model.add(Flatten())\n",
    "model.add(Dense(128, activation='relu'))\n",
    "model.add(Dense(10, activation='softmax'))"
   ]
  },
  {
   "cell_type": "code",
   "execution_count": 102,
   "metadata": {},
   "outputs": [],
   "source": [
    "model.compile(optimizer='adam', loss='sparse_categorical_crossentropy', metrics=['accuracy'])"
   ]
  },
  {
   "cell_type": "code",
   "execution_count": 103,
   "metadata": {},
   "outputs": [
    {
     "name": "stdout",
     "output_type": "stream",
     "text": [
      "Train on 48000 samples, validate on 12000 samples\n",
      "Epoch 1/10\n",
      "48000/48000 [==============================] - 42s 865us/sample - loss: 5.2892 - acc: 0.7511 - val_loss: 0.7133 - val_acc: 0.8313\n",
      "Epoch 2/10\n",
      "48000/48000 [==============================] - 43s 890us/sample - loss: 0.6064 - acc: 0.8611 - val_loss: 0.5614 - val_acc: 0.8868\n",
      "Epoch 3/10\n",
      "48000/48000 [==============================] - 42s 881us/sample - loss: 0.4827 - acc: 0.8875 - val_loss: 0.5206 - val_acc: 0.8930\n",
      "Epoch 4/10\n",
      "48000/48000 [==============================] - 42s 876us/sample - loss: 0.3996 - acc: 0.9048 - val_loss: 0.4547 - val_acc: 0.9006\n",
      "Epoch 5/10\n",
      "48000/48000 [==============================] - 42s 873us/sample - loss: 0.3359 - acc: 0.9178 - val_loss: 0.4226 - val_acc: 0.9163\n",
      "Epoch 6/10\n",
      "48000/48000 [==============================] - 42s 873us/sample - loss: 0.2896 - acc: 0.9263 - val_loss: 0.4095 - val_acc: 0.9148\n",
      "Epoch 7/10\n",
      "48000/48000 [==============================] - 42s 871us/sample - loss: 0.2614 - acc: 0.9320 - val_loss: 0.3469 - val_acc: 0.9258\n",
      "Epoch 8/10\n",
      "48000/48000 [==============================] - 42s 877us/sample - loss: 0.2362 - acc: 0.9358 - val_loss: 0.3589 - val_acc: 0.9248\n",
      "Epoch 9/10\n",
      "48000/48000 [==============================] - 42s 877us/sample - loss: 0.2075 - acc: 0.9424 - val_loss: 0.3651 - val_acc: 0.9259\n",
      "Epoch 10/10\n",
      "48000/48000 [==============================] - 42s 884us/sample - loss: 0.2008 - acc: 0.9439 - val_loss: 0.3495 - val_acc: 0.9267\n"
     ]
    },
    {
     "data": {
      "text/plain": [
       "<tensorflow.python.keras.callbacks.History at 0x653d8c410>"
      ]
     },
     "execution_count": 103,
     "metadata": {},
     "output_type": "execute_result"
    }
   ],
   "source": [
    "model.fit(X_train, y_train, epochs=10, batch_size=128, validation_split=0.20)"
   ]
  },
  {
   "cell_type": "code",
   "execution_count": 104,
   "metadata": {},
   "outputs": [
    {
     "data": {
      "text/plain": [
       "array([[5.3523908e-12, 7.9153921e-08, 1.1198926e-09, ..., 9.9999809e-01,\n",
       "        2.0861401e-11, 1.2590403e-09],\n",
       "       [7.1559008e-03, 2.7185348e-07, 9.6423578e-01, ..., 2.6984043e-10,\n",
       "        1.8587864e-08, 2.3070466e-10],\n",
       "       [3.6561192e-13, 9.9997258e-01, 2.3398193e-12, ..., 4.2902442e-08,\n",
       "        4.9560158e-06, 2.2318276e-05],\n",
       "       ...,\n",
       "       [8.8941563e-14, 6.4796325e-07, 2.0774458e-05, ..., 7.6757198e-05,\n",
       "        1.0273973e-15, 5.5121169e-03],\n",
       "       [2.1192279e-32, 0.0000000e+00, 0.0000000e+00, ..., 0.0000000e+00,\n",
       "        0.0000000e+00, 3.8816330e-35],\n",
       "       [4.0787680e-09, 1.9548102e-27, 1.1407005e-12, ..., 1.3700026e-35,\n",
       "        4.9183690e-27, 3.8187515e-15]], dtype=float32)"
      ]
     },
     "execution_count": 104,
     "metadata": {},
     "output_type": "execute_result"
    }
   ],
   "source": [
    "model.predict(X_test)"
   ]
  },
  {
   "cell_type": "code",
   "execution_count": 105,
   "metadata": {},
   "outputs": [
    {
     "name": "stdout",
     "output_type": "stream",
     "text": [
      "10000/10000 [==============================] - 3s 328us/sample - loss: 0.3715 - acc: 0.9314\n"
     ]
    },
    {
     "data": {
      "text/plain": [
       "[0.3714740912258625, 0.9314]"
      ]
     },
     "execution_count": 105,
     "metadata": {},
     "output_type": "execute_result"
    }
   ],
   "source": [
    "model.evaluate(X_test, y_test, batch_size=128)"
   ]
  },
  {
   "cell_type": "code",
   "execution_count": null,
   "metadata": {},
   "outputs": [],
   "source": []
  }
 ],
 "metadata": {
  "kernelspec": {
   "display_name": "Python 3",
   "language": "python",
   "name": "python3"
  },
  "language_info": {
   "codemirror_mode": {
    "name": "ipython",
    "version": 3
   },
   "file_extension": ".py",
   "mimetype": "text/x-python",
   "name": "python",
   "nbconvert_exporter": "python",
   "pygments_lexer": "ipython3",
   "version": "3.7.4"
  }
 },
 "nbformat": 4,
 "nbformat_minor": 2
}
